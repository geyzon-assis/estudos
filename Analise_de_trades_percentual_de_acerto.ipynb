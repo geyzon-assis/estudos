{
  "nbformat": 4,
  "nbformat_minor": 0,
  "metadata": {
    "colab": {
      "name": "Analise de trades - percentual de acerto.ipynb",
      "provenance": [],
      "authorship_tag": "ABX9TyMglul8Wov0yzSwtllvvV1x",
      "include_colab_link": true
    },
    "kernelspec": {
      "name": "python3",
      "display_name": "Python 3"
    },
    "language_info": {
      "name": "python"
    }
  },
  "cells": [
    {
      "cell_type": "markdown",
      "metadata": {
        "id": "view-in-github",
        "colab_type": "text"
      },
      "source": [
        "<a href=\"https://colab.research.google.com/github/geyzon-assis/estudos/blob/master/Analise_de_trades_percentual_de_acerto.ipynb\" target=\"_parent\"><img src=\"https://colab.research.google.com/assets/colab-badge.svg\" alt=\"Open In Colab\"/></a>"
      ]
    },
    {
      "cell_type": "code",
      "source": [
        "import random"
      ],
      "metadata": {
        "id": "tUEOwsN1f2Dd"
      },
      "execution_count": 19,
      "outputs": []
    },
    {
      "cell_type": "code",
      "execution_count": 175,
      "metadata": {
        "id": "NzC20WZ1asl8"
      },
      "outputs": [],
      "source": [
        "capital = 1000\n",
        "capital_inicial = capital\n",
        "taxa_acerto = 0.33\n",
        "nr_trades = 40\n",
        "stop = round(0.02 * capital,2)\n",
        "alvo = 0.04\n",
        "alvo_minimo = round(alvo * capital,2)\n",
        "\n"
      ]
    },
    {
      "cell_type": "code",
      "source": [
        "trades_errados =  random.sample(range(nr_trades),  int(nr_trades -(nr_trades * taxa_acerto)))"
      ],
      "metadata": {
        "id": "FCcvJYAFpnuL"
      },
      "execution_count": 176,
      "outputs": []
    },
    {
      "cell_type": "markdown",
      "source": [
        "Simulação de trade onde o alvo é fixo em relação ao capital inicial\n"
      ],
      "metadata": {
        "id": "dXG1twXPsl4Q"
      }
    },
    {
      "cell_type": "code",
      "source": [
        "for i in range(nr_trades):\n",
        "\n",
        "  if (i in trades_errados):\n",
        "    capital -= stop\n",
        "  else:\n",
        "    capital +=  alvo_minimo\n",
        "  print(capital)\n",
        "\n",
        "percentual_acumulado = (capital-capital_inicial) / capital_inicial\n",
        "\n",
        "print(\"O percentual de ganhos/perdas em relação ao capital inicial foi de {} %\".format(percentual_acumulado*100))"
      ],
      "metadata": {
        "colab": {
          "base_uri": "https://localhost:8080/"
        },
        "id": "eis7ii1rrEMj",
        "outputId": "c60fb5d6-4889-47c5-a913-c93222893739"
      },
      "execution_count": 177,
      "outputs": [
        {
          "output_type": "stream",
          "name": "stdout",
          "text": [
            "980.0\n",
            "960.0\n",
            "940.0\n",
            "980.0\n",
            "1020.0\n",
            "1000.0\n",
            "980.0\n",
            "960.0\n",
            "940.0\n",
            "920.0\n",
            "900.0\n",
            "940.0\n",
            "920.0\n",
            "960.0\n",
            "940.0\n",
            "920.0\n",
            "900.0\n",
            "880.0\n",
            "920.0\n",
            "900.0\n",
            "880.0\n",
            "860.0\n",
            "840.0\n",
            "820.0\n",
            "800.0\n",
            "780.0\n",
            "760.0\n",
            "800.0\n",
            "840.0\n",
            "880.0\n",
            "920.0\n",
            "900.0\n",
            "940.0\n",
            "920.0\n",
            "960.0\n",
            "940.0\n",
            "980.0\n",
            "1020.0\n",
            "1060.0\n",
            "1040.0\n",
            "O percentual de ganhos/perdas em relação ao capital inicial foi de 4.0 %\n"
          ]
        }
      ]
    },
    {
      "cell_type": "markdown",
      "source": [
        "Simulação de trade onde o alvo é percentual em cima do capital acumulado caso o capital acumulado > capital inicial"
      ],
      "metadata": {
        "id": "TNqCvqKjrcjh"
      }
    },
    {
      "cell_type": "code",
      "source": [
        "capital = capital_inicial\n",
        "for i in range(nr_trades):\n",
        "\n",
        "  if (i in trades_errados):\n",
        "    capital = round(capital - stop,2)\n",
        "  elif (capital >= capital_inicial):\n",
        "    capital = round(capital + (alvo * capital),2)\n",
        "  else:\n",
        "    capital = round(capital + alvo_minimo)\n",
        "  print(capital)\n",
        "\n",
        "percentual_acumulado = (capital-capital_inicial) / capital_inicial\n",
        "\n",
        "print(\"O percentual de ganhos/perdas em relação ao capital inicial foi de {} %\".format(percentual_acumulado*100))"
      ],
      "metadata": {
        "colab": {
          "base_uri": "https://localhost:8080/"
        },
        "id": "LA1UfsDYbO4P",
        "outputId": "0c3254b4-268e-4d3b-8c0c-78d4bb88d558"
      },
      "execution_count": 185,
      "outputs": [
        {
          "output_type": "stream",
          "name": "stdout",
          "text": [
            "980.0\n",
            "960.0\n",
            "940.0\n",
            "980\n",
            "1020\n",
            "1000.0\n",
            "980.0\n",
            "960.0\n",
            "940.0\n",
            "920.0\n",
            "900.0\n",
            "940\n",
            "920.0\n",
            "960\n",
            "940.0\n",
            "920.0\n",
            "900.0\n",
            "880.0\n",
            "920\n",
            "900.0\n",
            "880.0\n",
            "860.0\n",
            "840.0\n",
            "820.0\n",
            "800.0\n",
            "780.0\n",
            "760.0\n",
            "800\n",
            "840\n",
            "880\n",
            "920\n",
            "900.0\n",
            "940\n",
            "920.0\n",
            "960\n",
            "940.0\n",
            "980\n",
            "1020\n",
            "1060.8\n",
            "1040.8\n",
            "O percentual de ganhos/perdas em relação ao capital inicial foi de 4.079999999999996 %\n"
          ]
        }
      ]
    },
    {
      "cell_type": "code",
      "source": [
        "print(trades_errados)"
      ],
      "metadata": {
        "colab": {
          "base_uri": "https://localhost:8080/"
        },
        "id": "WEIk1WkrbbWe",
        "outputId": "bfdfe9a7-3db9-44f3-ec67-58ed43a77204"
      },
      "execution_count": 137,
      "outputs": [
        {
          "output_type": "stream",
          "name": "stdout",
          "text": [
            "[39, 3, 20, 31, 37, 8, 36, 34, 19, 7, 4, 32, 18, 21, 25, 38, 17, 5, 15, 30]\n"
          ]
        }
      ]
    },
    {
      "cell_type": "code",
      "source": [
        ""
      ],
      "metadata": {
        "id": "JxfTqeIzgfOq"
      },
      "execution_count": null,
      "outputs": []
    }
  ]
}